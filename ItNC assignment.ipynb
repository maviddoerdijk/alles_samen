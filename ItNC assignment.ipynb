{
 "cells": [
  {
   "cell_type": "markdown",
   "id": "97b1ec8b",
   "metadata": {},
   "source": [
    "# Practical Assigment \n",
    "\n",
    "- Task: Time Series Forecasting on a Synthetic Data Set\n",
    "- Data: please see `train.csv` available on Brightspace\n",
    "- Specifications:\n",
    "  * You are required to implement a **recurrent neural network** in **PyTorch**, which takes as input,\n",
    "  * a recent history of time step $t$, e.g., ... , $t-3$, $t-2$, $t-1$, $t$. \n",
    "  * to predict **five** time step in the future, i.e., $t+1$, $t+2$, $t+3$, $t+4$, $t+5$.\n",
    "  * You can use any recurrent NN models taught from the class.\n",
    "  * You could choose the length of the history fed into the model by yourselves.\n",
    "  * The resulting code structure should contain (1) `model.py` -> the implementation of your own RNN model; (2) `train.py` -> the training code, which can be executed from the command line by `python train.py`; (3) `requirements.txt` that lists the Python packages your are using, including the version information.\n",
    "  * You need to submit your source code and **a dumpy file of the best model you ever trained**. When handing in the assigment, please put `model.py`, `train.py`, `requirements.txt`, and the model dump file in the same folder named by your group and student IDs. The name must be SUBMISSION_<group_name>_<student_IDs> (e.g., SUBMISSION_NC_PA_24_1_s3610233_s3610234_s3610235). Please see [https://pytorch.org/tutorials/beginner/saving_loading_models.html](https://pytorch.org/tutorials/beginner/saving_loading_models.html) for a tutorial on how to save/load the model.\n",
    "- **DEADLINE**: June 21, 2024, 12:00. \n",
    "- Please deliver your assignment on Brightspace.\n",
    "- The practical assignment accounts for 30% of the final grade.\n",
    "- When training your RNN model locally on `train.csv`, we suggest to use the [Mean Absolute Percentage Error (MAPE)](Mean Absolute Percentage Error) metric to track the performance since we will use this metric to evaluate your model (see below)\n",
    "- Evaluation criteria:\n",
    "  * Your `train.py` should be executable - We will contact you in case a bug is encountered. In this case, you will have one chance to fix it, with a penalty of 1 out of 10.\n",
    "  * We will execute your `train.py` on the training data set `train.csv`, checking against bugs.\n",
    "  * We will load your best saved model and evaluate it on a testing data set hidden to you. \n",
    "  * Any bugs occur in the evaluation phase will incur a penalty of 1 out of 10.\n",
    "  * The evaluation performance - MAPE - on the testing data will be ranked and the top-5 groups will get a bonus of 2 of 10. "
   ]
  },
  {
   "cell_type": "markdown",
   "id": "42f6bec1",
   "metadata": {},
   "source": [
    "## Data set\n",
    "\n",
    "As you can see from below, the training set is simple - it contains the timestamp at which the target column `number_sold` is recorded. The forecasting task is to take some historical records to predict the value of `number_sold` in the future.\n",
    "\n",
    "Please keep in mind that there are two extra columns indicating the location (`store`) and type (`product`) of the selling event. Please think about how to use those two columns in your model."
   ]
  },
  {
   "cell_type": "code",
   "execution_count": 2,
   "id": "c628ccca",
   "metadata": {},
   "outputs": [
    {
     "data": {
      "text/html": [
       "<div>\n",
       "<style scoped>\n",
       "    .dataframe tbody tr th:only-of-type {\n",
       "        vertical-align: middle;\n",
       "    }\n",
       "\n",
       "    .dataframe tbody tr th {\n",
       "        vertical-align: top;\n",
       "    }\n",
       "\n",
       "    .dataframe thead th {\n",
       "        text-align: right;\n",
       "    }\n",
       "</style>\n",
       "<table border=\"1\" class=\"dataframe\">\n",
       "  <thead>\n",
       "    <tr style=\"text-align: right;\">\n",
       "      <th></th>\n",
       "      <th>Date</th>\n",
       "      <th>store</th>\n",
       "      <th>product</th>\n",
       "      <th>number_sold</th>\n",
       "    </tr>\n",
       "  </thead>\n",
       "  <tbody>\n",
       "    <tr>\n",
       "      <th>0</th>\n",
       "      <td>2010-01-01</td>\n",
       "      <td>0</td>\n",
       "      <td>0</td>\n",
       "      <td>801</td>\n",
       "    </tr>\n",
       "    <tr>\n",
       "      <th>1</th>\n",
       "      <td>2010-01-02</td>\n",
       "      <td>0</td>\n",
       "      <td>0</td>\n",
       "      <td>810</td>\n",
       "    </tr>\n",
       "    <tr>\n",
       "      <th>2</th>\n",
       "      <td>2010-01-03</td>\n",
       "      <td>0</td>\n",
       "      <td>0</td>\n",
       "      <td>818</td>\n",
       "    </tr>\n",
       "    <tr>\n",
       "      <th>3</th>\n",
       "      <td>2010-01-04</td>\n",
       "      <td>0</td>\n",
       "      <td>0</td>\n",
       "      <td>796</td>\n",
       "    </tr>\n",
       "    <tr>\n",
       "      <th>4</th>\n",
       "      <td>2010-01-05</td>\n",
       "      <td>0</td>\n",
       "      <td>0</td>\n",
       "      <td>808</td>\n",
       "    </tr>\n",
       "  </tbody>\n",
       "</table>\n",
       "</div>"
      ],
      "text/plain": [
       "         Date  store  product  number_sold\n",
       "0  2010-01-01      0        0          801\n",
       "1  2010-01-02      0        0          810\n",
       "2  2010-01-03      0        0          818\n",
       "3  2010-01-04      0        0          796\n",
       "4  2010-01-05      0        0          808"
      ]
     },
     "execution_count": 2,
     "metadata": {},
     "output_type": "execute_result"
    }
   ],
   "source": [
    "import pandas as pd\n",
    "\n",
    "df = pd.read_csv(\"train.csv\")\n",
    "df.head()"
   ]
  },
  {
   "cell_type": "code",
   "execution_count": null,
   "id": "9cb1f2ab",
   "metadata": {},
   "outputs": [],
   "source": []
  }
 ],
 "metadata": {
  "kernelspec": {
   "display_name": "Python 3 (ipykernel)",
   "language": "python",
   "name": "python3"
  },
  "language_info": {
   "codemirror_mode": {
    "name": "ipython",
    "version": 3
   },
   "file_extension": ".py",
   "mimetype": "text/x-python",
   "name": "python",
   "nbconvert_exporter": "python",
   "pygments_lexer": "ipython3",
   "version": "3.10.11"
  }
 },
 "nbformat": 4,
 "nbformat_minor": 5
}
